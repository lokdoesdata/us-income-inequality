{
 "cells": [
  {
   "cell_type": "markdown",
   "metadata": {},
   "source": [
    "[![Open In Colab](https://colab.research.google.com/assets/colab-badge.svg)](https://colab.research.google.com/github/lokdoesdata/us-income-inequality/blob/master/us-income-inequality.ipynb)"
   ]
  },
  {
   "cell_type": "markdown",
   "metadata": {},
   "source": [
    "## Introduction\n",
    "\n",
    "This was inspired by the [Switerland's regional income (in-equality) thematic map](https://timogrossenbacher.ch/2019/04/bivariate-maps-with-ggplot2-and-sf/) by [Timo Grossenbacher](https://twitter.com/grssnbchr) and [Angelo Zehr](https://twitter.com/angelozehr). Grossenbacher and Zehr's map was generated using `ggplot2` and `sf` from R, and uses geographical features to enhance the visual. However, this map of the United States' Income Inequality was generated using `plotly` on Python, and touched up with Adobe Illustrator. Furthermore, this does not consider geographical features, but it would be interesting to implement if the data are available.\n",
    "\n",
    "This was originally posted on [r/dataisbeautiful](https://www.reddit.com/r/dataisbeautiful/comments/ipnqi1/oc_united_states_income_inequality/)."
   ]
  },
  {
   "source": [
    "## Upgrade plotly for Google Colab\n",
    "\n",
    "Google Colab has an older version of Plotly that does not support geojson in choropleth maps.  Runtime may have to be restarted after installation."
   ],
   "cell_type": "markdown",
   "metadata": {}
  },
  {
   "cell_type": "code",
   "execution_count": null,
   "metadata": {},
   "outputs": [],
   "source": [
    "%pip install plotly --upgrade"
   ]
  },
  {
   "cell_type": "markdown",
   "metadata": {},
   "source": [
    "## Import packages"
   ]
  },
  {
   "cell_type": "code",
   "execution_count": 1,
   "metadata": {},
   "outputs": [],
   "source": [
    "# Data\n",
    "from urllib.request import urlopen\n",
    "import json\n",
    "import pandas as pd\n",
    "\n",
    "# Plotly\n",
    "import plotly.express as px"
   ]
  },
  {
   "cell_type": "code",
   "execution_count": 3,
   "metadata": {},
   "outputs": [],
   "source": [
    "with urlopen('https://raw.githubusercontent.com/plotly/datasets/master/geojson-counties-fips.json') as response:\n",
    "    counties = json.load(response)"
   ]
  },
  {
   "cell_type": "markdown",
   "metadata": {},
   "source": [
    "The geojson file containing the geometries for the counties was posted by `plotly` on their Github."
   ]
  },
  {
   "cell_type": "code",
   "execution_count": 4,
   "metadata": {},
   "outputs": [],
   "source": [
    "df_gini = pd.read_csv(r'https://raw.githubusercontent.com/lokdoesdata/us-income-inequality/main/data/gini.csv')\n",
    "df_income = pd.read_csv(r'https://raw.githubusercontent.com/lokdoesdata/us-income-inequality/main/data/income.csv')\n",
    "\n",
    "df = df_gini.merge(df_income[['GEO_ID', 'Mean Income']], on = 'GEO_ID')\n",
    "df['fips'] = df['GEO_ID'].str[-5:]"
   ]
  },
  {
   "cell_type": "markdown",
   "metadata": {},
   "source": [
    "The data used were the [Gini index of income inequality](https://data.census.gov/cedsci/table?q=gini%20index&tid=ACSDT5Y2018.B19083&moe=false&hidePreview=true) and the [mean income](https://data.census.gov/cedsci/table?q=income&tid=ACSST5Y2018.S1902&moe=false&hidePreview=true) by county. They were both obtained from the United States' Census 2018 ACS 5-Year Estimates."
   ]
  },
  {
   "cell_type": "markdown",
   "metadata": {},
   "source": [
    "## Calculation"
   ]
  },
  {
   "cell_type": "code",
   "execution_count": 5,
   "metadata": {},
   "outputs": [],
   "source": [
    "gini_1 = df['Gini'].quantile(1/3)\n",
    "gini_2 = df['Gini'].quantile(2/3)\n",
    "income_1 = df['Mean Income'].quantile(1/3)\n",
    "income_2 = df['Mean Income'].quantile(2/3)\n",
    "\n",
    "df['gini quartile'] = df['Gini'].apply(\n",
    "    lambda x: 3 if x >= gini_2 else 2 if x >= gini_1 else 1)\n",
    "\n",
    "df['income quartile'] = df['Mean Income'].apply(\n",
    "    lambda x: 3 if x >= income_2 else 2 if x >= income_1 else 1)\n",
    "\n",
    "df['color scale'] = df['gini quartile'].astype(str) + ' - ' + df['income quartile'].astype(str)"
   ]
  },
  {
   "cell_type": "code",
   "execution_count": 6,
   "metadata": {},
   "outputs": [],
   "source": [
    "color_scale = {\n",
    "    '3 - 3': '#3F2949', # high inequality, high income\n",
    "    '2 - 3': '#435786',\n",
    "    '1 - 3': '#4885C1', # low inequality, high income\n",
    "    '3 - 2': '#77324C',\n",
    "    '2 - 2': '#806A8A', # medium inequality, medium income\n",
    "    '1 - 2': '#89A1C8',\n",
    "    '3 - 1': '#AE3A4E', # high inequality, low income\n",
    "    '2 - 1': '#BC7C8F',\n",
    "    '1 - 1': '#CABED0', # low inequality, low income\n",
    "}\n",
    "\n",
    "fig = px.choropleth(df, \n",
    "                    geojson=counties, \n",
    "                    locations='fips', \n",
    "                    color='color scale',\n",
    "                    color_discrete_map=color_scale,\n",
    "                    scope='usa'\n",
    "                   )\n",
    "\n",
    "fig = fig.update_layout(margin={'r':0, 't':0, 'l':0, 'b':0})"
   ]
  },
  {
   "cell_type": "markdown",
   "metadata": {},
   "source": [
    "The visual was exported into a pdf and additional touch up were done on Adobe Illustrator."
   ]
  }
 ],
 "metadata": {
  "kernelspec": {
   "display_name": "Python 3",
   "language": "python",
   "name": "python3"
  },
  "language_info": {
   "codemirror_mode": {
    "name": "ipython",
    "version": 3
   },
   "file_extension": ".py",
   "mimetype": "text/x-python",
   "name": "python",
   "nbconvert_exporter": "python",
   "pygments_lexer": "ipython3",
   "version": "3.8.8"
  }
 },
 "nbformat": 4,
 "nbformat_minor": 4
}